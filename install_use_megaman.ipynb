{
  "nbformat": 4,
  "nbformat_minor": 0,
  "metadata": {
    "colab": {
      "name": "install_use_megaman.ipynb",
      "provenance": []
    },
    "kernelspec": {
      "name": "python3",
      "display_name": "Python 3"
    },
    "language_info": {
      "name": "python"
    }
  },
  "cells": [
    {
      "cell_type": "markdown",
      "source": [
        "In this script, it includes the tutorial about installing megaman in Google colab, and demos of using megaman (Spectral Embedding).  \n",
        "This script must be operated in Google colab."
      ],
      "metadata": {
        "id": "aj2o0yGElGtC"
      }
    },
    {
      "cell_type": "code",
      "execution_count": null,
      "metadata": {
        "id": "gqjHHsA9jj65"
      },
      "outputs": [],
      "source": [
        "!pip install -q condacolab\n",
        "import condacolab\n",
        "condacolab.install()"
      ]
    },
    {
      "cell_type": "code",
      "source": [
        "!conda --version"
      ],
      "metadata": {
        "id": "LFDyXauRlqRo"
      },
      "execution_count": null,
      "outputs": []
    },
    {
      "cell_type": "code",
      "source": [
        "!conda create -n 'megaman_works' python=3.6 -ysource activate megaman_works\n",
        "!conda install --channel=conda-forge -y pyflann"
      ],
      "metadata": {
        "id": "YbPfBGY5lsq6"
      },
      "execution_count": null,
      "outputs": []
    },
    {
      "cell_type": "code",
      "source": [
        "!pip install git+https://github.com/mmp2/megaman.git"
      ],
      "metadata": {
        "id": "NOAfpNKvlvjQ"
      },
      "execution_count": null,
      "outputs": []
    },
    {
      "cell_type": "markdown",
      "source": [
        "After megaman is installed, colab might report warning or error. Ignore it, and go on to the demo below."
      ],
      "metadata": {
        "id": "wCFNsCMol0mL"
      }
    },
    {
      "cell_type": "code",
      "source": [
        "import numpy as np\n",
        "from megaman.geometry import Geometry\n",
        "from megaman.embedding import SpectralEmbedding"
      ],
      "metadata": {
        "id": "sk30GizYlv4h"
      },
      "execution_count": null,
      "outputs": []
    },
    {
      "cell_type": "markdown",
      "source": [
        "Apply megaman Spectral Embedding to a random dataset, with shape (100, 10)"
      ],
      "metadata": {
        "id": "gUrgmUaMmPpQ"
      }
    },
    {
      "cell_type": "code",
      "source": [
        "X = np.random.randn(100, 10)\n",
        "radius = 5\n",
        "adjacency_method = 'cyflann'\n",
        "adjacency_kwds = {'radius':radius} # ignore distances above this radius\n",
        "affinity_method = 'gaussian'\n",
        "affinity_kwds = {'radius':radius} # A = exp(-||x - y||/radius^2)\n",
        "laplacian_method = 'geometric'\n",
        "laplacian_kwds = {'scaling_epps':radius} # scaling ensures convergence to Laplace-Beltrami operator\n",
        "\n",
        "geom  = Geometry(adjacency_method=adjacency_method, adjacency_kwds=adjacency_kwds,\n",
        "                 affinity_method=affinity_method, affinity_kwds=affinity_kwds,\n",
        "                 laplacian_method=laplacian_method, laplacian_kwds=laplacian_kwds)\n",
        "\n",
        "spectral = SpectralEmbedding(n_components=n_components, eigen_solver='arpack',\n",
        "                             geom=geom)\n",
        "embed_spectral = spectral.fit_transform(X)"
      ],
      "metadata": {
        "id": "haYAHBvEmKRo"
      },
      "execution_count": null,
      "outputs": []
    }
  ]
}